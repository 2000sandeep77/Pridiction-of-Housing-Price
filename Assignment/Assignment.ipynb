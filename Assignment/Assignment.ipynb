{
 "cells": [
  {
   "cell_type": "code",
   "execution_count": 1,
   "metadata": {},
   "outputs": [
    {
     "name": "stdout",
     "output_type": "stream",
     "text": [
      "101 103 107 109 113 127 131 137 139 149 151 157 163 167 173 179 181 191 193 197 199 211 223 227 229 233 239 241 251 257 263 269 271 277 281 283 293 "
     ]
    }
   ],
   "source": [
    "def prime(n):\n",
    "    size = int(n**(0.5)+1)\n",
    "    for i in range (2,size):\n",
    "        if(n%i == 0):\n",
    "            return False\n",
    "    return True\n",
    "def printPrime(a,b):\n",
    "    for i in range(a,b+1):\n",
    "        if(prime(i)):\n",
    "            print(i,end=\" \")\n",
    "x = 100\n",
    "y = 300\n",
    "printPrime(x,y)"
   ]
  },
  {
   "cell_type": "code",
   "execution_count": 2,
   "metadata": {},
   "outputs": [
    {
     "name": "stdout",
     "output_type": "stream",
     "text": [
      "Enter a number 353\n",
      "Number is not Armstrong Number\n"
     ]
    }
   ],
   "source": [
    "def armstrong(n):\n",
    "    sum = 0\n",
    "    x = n\n",
    "    while(n):\n",
    "        d = n%10\n",
    "        sum += d**3\n",
    "        n = n//10\n",
    "    if(sum == x):\n",
    "        return True\n",
    "    return False\n",
    "n = int(input(\"Enter a number \"))\n",
    "if(armstrong(n)):\n",
    "    print(\"Number is Armstrong Number\")\n",
    "else:\n",
    "    print(\"Number is not Armstrong Number\")"
   ]
  },
  {
   "cell_type": "code",
   "execution_count": null,
   "metadata": {},
   "outputs": [],
   "source": []
  }
 ],
 "metadata": {
  "kernelspec": {
   "display_name": "Python 3",
   "language": "python",
   "name": "python3"
  },
  "language_info": {
   "codemirror_mode": {
    "name": "ipython",
    "version": 3
   },
   "file_extension": ".py",
   "mimetype": "text/x-python",
   "name": "python",
   "nbconvert_exporter": "python",
   "pygments_lexer": "ipython3",
   "version": "3.7.3"
  }
 },
 "nbformat": 4,
 "nbformat_minor": 2
}
